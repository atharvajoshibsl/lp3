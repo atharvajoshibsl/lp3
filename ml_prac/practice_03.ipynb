{
 "cells": [
  {
   "cell_type": "code",
   "execution_count": 44,
   "id": "9fa2c4ce",
   "metadata": {},
   "outputs": [],
   "source": [
    "import pandas as pd\n",
    "import numpy as np\n",
    "import seaborn as sns\n",
    "import matplotlib.pyplot as plt\n",
    "import tensorflow as tf"
   ]
  },
  {
   "cell_type": "code",
   "execution_count": 45,
   "id": "945434d5",
   "metadata": {},
   "outputs": [
    {
     "data": {
      "text/html": [
       "<div>\n",
       "<style scoped>\n",
       "    .dataframe tbody tr th:only-of-type {\n",
       "        vertical-align: middle;\n",
       "    }\n",
       "\n",
       "    .dataframe tbody tr th {\n",
       "        vertical-align: top;\n",
       "    }\n",
       "\n",
       "    .dataframe thead th {\n",
       "        text-align: right;\n",
       "    }\n",
       "</style>\n",
       "<table border=\"1\" class=\"dataframe\">\n",
       "  <thead>\n",
       "    <tr style=\"text-align: right;\">\n",
       "      <th></th>\n",
       "      <th>RowNumber</th>\n",
       "      <th>CustomerId</th>\n",
       "      <th>Surname</th>\n",
       "      <th>CreditScore</th>\n",
       "      <th>Geography</th>\n",
       "      <th>Gender</th>\n",
       "      <th>Age</th>\n",
       "      <th>Tenure</th>\n",
       "      <th>Balance</th>\n",
       "      <th>NumOfProducts</th>\n",
       "      <th>HasCrCard</th>\n",
       "      <th>IsActiveMember</th>\n",
       "      <th>EstimatedSalary</th>\n",
       "      <th>Exited</th>\n",
       "    </tr>\n",
       "  </thead>\n",
       "  <tbody>\n",
       "    <tr>\n",
       "      <th>0</th>\n",
       "      <td>1</td>\n",
       "      <td>15634602</td>\n",
       "      <td>Hargrave</td>\n",
       "      <td>619</td>\n",
       "      <td>France</td>\n",
       "      <td>Female</td>\n",
       "      <td>42</td>\n",
       "      <td>2</td>\n",
       "      <td>0.00</td>\n",
       "      <td>1</td>\n",
       "      <td>1</td>\n",
       "      <td>1</td>\n",
       "      <td>101348.88</td>\n",
       "      <td>1</td>\n",
       "    </tr>\n",
       "    <tr>\n",
       "      <th>1</th>\n",
       "      <td>2</td>\n",
       "      <td>15647311</td>\n",
       "      <td>Hill</td>\n",
       "      <td>608</td>\n",
       "      <td>Spain</td>\n",
       "      <td>Female</td>\n",
       "      <td>41</td>\n",
       "      <td>1</td>\n",
       "      <td>83807.86</td>\n",
       "      <td>1</td>\n",
       "      <td>0</td>\n",
       "      <td>1</td>\n",
       "      <td>112542.58</td>\n",
       "      <td>0</td>\n",
       "    </tr>\n",
       "    <tr>\n",
       "      <th>2</th>\n",
       "      <td>3</td>\n",
       "      <td>15619304</td>\n",
       "      <td>Onio</td>\n",
       "      <td>502</td>\n",
       "      <td>France</td>\n",
       "      <td>Female</td>\n",
       "      <td>42</td>\n",
       "      <td>8</td>\n",
       "      <td>159660.80</td>\n",
       "      <td>3</td>\n",
       "      <td>1</td>\n",
       "      <td>0</td>\n",
       "      <td>113931.57</td>\n",
       "      <td>1</td>\n",
       "    </tr>\n",
       "    <tr>\n",
       "      <th>3</th>\n",
       "      <td>4</td>\n",
       "      <td>15701354</td>\n",
       "      <td>Boni</td>\n",
       "      <td>699</td>\n",
       "      <td>France</td>\n",
       "      <td>Female</td>\n",
       "      <td>39</td>\n",
       "      <td>1</td>\n",
       "      <td>0.00</td>\n",
       "      <td>2</td>\n",
       "      <td>0</td>\n",
       "      <td>0</td>\n",
       "      <td>93826.63</td>\n",
       "      <td>0</td>\n",
       "    </tr>\n",
       "    <tr>\n",
       "      <th>4</th>\n",
       "      <td>5</td>\n",
       "      <td>15737888</td>\n",
       "      <td>Mitchell</td>\n",
       "      <td>850</td>\n",
       "      <td>Spain</td>\n",
       "      <td>Female</td>\n",
       "      <td>43</td>\n",
       "      <td>2</td>\n",
       "      <td>125510.82</td>\n",
       "      <td>1</td>\n",
       "      <td>1</td>\n",
       "      <td>1</td>\n",
       "      <td>79084.10</td>\n",
       "      <td>0</td>\n",
       "    </tr>\n",
       "  </tbody>\n",
       "</table>\n",
       "</div>"
      ],
      "text/plain": [
       "   RowNumber  CustomerId   Surname  CreditScore Geography  Gender  Age  \\\n",
       "0          1    15634602  Hargrave          619    France  Female   42   \n",
       "1          2    15647311      Hill          608     Spain  Female   41   \n",
       "2          3    15619304      Onio          502    France  Female   42   \n",
       "3          4    15701354      Boni          699    France  Female   39   \n",
       "4          5    15737888  Mitchell          850     Spain  Female   43   \n",
       "\n",
       "   Tenure    Balance  NumOfProducts  HasCrCard  IsActiveMember  \\\n",
       "0       2       0.00              1          1               1   \n",
       "1       1   83807.86              1          0               1   \n",
       "2       8  159660.80              3          1               0   \n",
       "3       1       0.00              2          0               0   \n",
       "4       2  125510.82              1          1               1   \n",
       "\n",
       "   EstimatedSalary  Exited  \n",
       "0        101348.88       1  \n",
       "1        112542.58       0  \n",
       "2        113931.57       1  \n",
       "3         93826.63       0  \n",
       "4         79084.10       0  "
      ]
     },
     "execution_count": 45,
     "metadata": {},
     "output_type": "execute_result"
    }
   ],
   "source": [
    "df=pd.read_csv('./Churn_Modelling.csv')\n",
    "df.head()"
   ]
  },
  {
   "cell_type": "code",
   "execution_count": 46,
   "id": "4521be9b",
   "metadata": {},
   "outputs": [
    {
     "name": "stdout",
     "output_type": "stream",
     "text": [
      "<class 'pandas.core.frame.DataFrame'>\n",
      "RangeIndex: 10000 entries, 0 to 9999\n",
      "Data columns (total 14 columns):\n",
      " #   Column           Non-Null Count  Dtype  \n",
      "---  ------           --------------  -----  \n",
      " 0   RowNumber        10000 non-null  int64  \n",
      " 1   CustomerId       10000 non-null  int64  \n",
      " 2   Surname          10000 non-null  object \n",
      " 3   CreditScore      10000 non-null  int64  \n",
      " 4   Geography        10000 non-null  object \n",
      " 5   Gender           10000 non-null  object \n",
      " 6   Age              10000 non-null  int64  \n",
      " 7   Tenure           10000 non-null  int64  \n",
      " 8   Balance          10000 non-null  float64\n",
      " 9   NumOfProducts    10000 non-null  int64  \n",
      " 10  HasCrCard        10000 non-null  int64  \n",
      " 11  IsActiveMember   10000 non-null  int64  \n",
      " 12  EstimatedSalary  10000 non-null  float64\n",
      " 13  Exited           10000 non-null  int64  \n",
      "dtypes: float64(2), int64(9), object(3)\n",
      "memory usage: 1.1+ MB\n"
     ]
    }
   ],
   "source": [
    "df.info()"
   ]
  },
  {
   "cell_type": "code",
   "execution_count": 47,
   "id": "abc55655",
   "metadata": {},
   "outputs": [
    {
     "data": {
      "image/png": "[encoded data removed]",
      "text/plain": [
       "<Figure size 640x480 with 1 Axes>"
      ]
     },
     "metadata": {},
     "output_type": "display_data"
    }
   ],
   "source": [
    "plt.xlabel('Exited')\n",
    "plt.ylabel('Count')\n",
    "df['Exited'].value_counts().plot.bar()\n",
    "plt.show()"
   ]
  },
  {
   "cell_type": "code",
   "execution_count": 48,
   "id": "f69ddbf5",
   "metadata": {},
   "outputs": [
    {
     "data": {
      "text/plain": [
       "France     5014\n",
       "Germany    2509\n",
       "Spain      2477\n",
       "Name: Geography, dtype: int64"
      ]
     },
     "execution_count": 48,
     "metadata": {},
     "output_type": "execute_result"
    }
   ],
   "source": [
    "df['Geography'].value_counts()\n"
   ]
  },
  {
   "cell_type": "code",
   "execution_count": 49,
   "id": "85dfc405",
   "metadata": {},
   "outputs": [],
   "source": [
    "df = pd.concat([df,pd.get_dummies(df['Geography'],prefix='Geo')],axis=1)"
   ]
  },
  {
   "cell_type": "code",
   "execution_count": 50,
   "id": "3dde9409",
   "metadata": {},
   "outputs": [],
   "source": [
    "df = pd.concat([df,pd.get_dummies(df['Gender'])],axis=1)"
   ]
  },
  {
   "cell_type": "code",
   "execution_count": 51,
   "id": "d18d29d6",
   "metadata": {},
   "outputs": [
    {
     "name": "stdout",
     "output_type": "stream",
     "text": [
      "<class 'pandas.core.frame.DataFrame'>\n",
      "RangeIndex: 10000 entries, 0 to 9999\n",
      "Data columns (total 19 columns):\n",
      " #   Column           Non-Null Count  Dtype  \n",
      "---  ------           --------------  -----  \n",
      " 0   RowNumber        10000 non-null  int64  \n",
      " 1   CustomerId       10000 non-null  int64  \n",
      " 2   Surname          10000 non-null  object \n",
      " 3   CreditScore      10000 non-null  int64  \n",
      " 4   Geography        10000 non-null  object \n",
      " 5   Gender           10000 non-null  object \n",
      " 6   Age              10000 non-null  int64  \n",
      " 7   Tenure           10000 non-null  int64  \n",
      " 8   Balance          10000 non-null  float64\n",
      " 9   NumOfProducts    10000 non-null  int64  \n",
      " 10  HasCrCard        10000 non-null  int64  \n",
      " 11  IsActiveMember   10000 non-null  int64  \n",
      " 12  EstimatedSalary  10000 non-null  float64\n",
      " 13  Exited           10000 non-null  int64  \n",
      " 14  Geo_France       10000 non-null  uint8  \n",
      " 15  Geo_Germany      10000 non-null  uint8  \n",
      " 16  Geo_Spain        10000 non-null  uint8  \n",
      " 17  Female           10000 non-null  uint8  \n",
      " 18  Male             10000 non-null  uint8  \n",
      "dtypes: float64(2), int64(9), object(3), uint8(5)\n",
      "memory usage: 1.1+ MB\n"
     ]
    }
   ],
   "source": [
    "df.info()"
   ]
  },
  {
   "cell_type": "code",
   "execution_count": 52,
   "id": "8e5d7563",
   "metadata": {},
   "outputs": [],
   "source": [
    "df.drop(columns=['RowNumber','CustomerId','Surname','Geography','Gender'],inplace=True)"
   ]
  },
  {
   "cell_type": "code",
   "execution_count": 53,
   "id": "453e8903",
   "metadata": {},
   "outputs": [
    {
     "data": {
      "text/html": [
       "<div>\n",
       "<style scoped>\n",
       "    .dataframe tbody tr th:only-of-type {\n",
       "        vertical-align: middle;\n",
       "    }\n",
       "\n",
       "    .dataframe tbody tr th {\n",
       "        vertical-align: top;\n",
       "    }\n",
       "\n",
       "    .dataframe thead th {\n",
       "        text-align: right;\n",
       "    }\n",
       "</style>\n",
       "<table border=\"1\" class=\"dataframe\">\n",
       "  <thead>\n",
       "    <tr style=\"text-align: right;\">\n",
       "      <th></th>\n",
       "      <th>CreditScore</th>\n",
       "      <th>Age</th>\n",
       "      <th>Tenure</th>\n",
       "      <th>Balance</th>\n",
       "      <th>NumOfProducts</th>\n",
       "      <th>HasCrCard</th>\n",
       "      <th>IsActiveMember</th>\n",
       "      <th>EstimatedSalary</th>\n",
       "      <th>Exited</th>\n",
       "      <th>Geo_France</th>\n",
       "      <th>Geo_Germany</th>\n",
       "      <th>Geo_Spain</th>\n",
       "      <th>Female</th>\n",
       "      <th>Male</th>\n",
       "    </tr>\n",
       "  </thead>\n",
       "  <tbody>\n",
       "    <tr>\n",
       "      <th>0</th>\n",
       "      <td>619</td>\n",
       "      <td>42</td>\n",
       "      <td>2</td>\n",
       "      <td>0.00</td>\n",
       "      <td>1</td>\n",
       "      <td>1</td>\n",
       "      <td>1</td>\n",
       "      <td>101348.88</td>\n",
       "      <td>1</td>\n",
       "      <td>1</td>\n",
       "      <td>0</td>\n",
       "      <td>0</td>\n",
       "      <td>1</td>\n",
       "      <td>0</td>\n",
       "    </tr>\n",
       "    <tr>\n",
       "      <th>1</th>\n",
       "      <td>608</td>\n",
       "      <td>41</td>\n",
       "      <td>1</td>\n",
       "      <td>83807.86</td>\n",
       "      <td>1</td>\n",
       "      <td>0</td>\n",
       "      <td>1</td>\n",
       "      <td>112542.58</td>\n",
       "      <td>0</td>\n",
       "      <td>0</td>\n",
       "      <td>0</td>\n",
       "      <td>1</td>\n",
       "      <td>1</td>\n",
       "      <td>0</td>\n",
       "    </tr>\n",
       "    <tr>\n",
       "      <th>2</th>\n",
       "      <td>502</td>\n",
       "      <td>42</td>\n",
       "      <td>8</td>\n",
       "      <td>159660.80</td>\n",
       "      <td>3</td>\n",
       "      <td>1</td>\n",
       "      <td>0</td>\n",
       "      <td>113931.57</td>\n",
       "      <td>1</td>\n",
       "      <td>1</td>\n",
       "      <td>0</td>\n",
       "      <td>0</td>\n",
       "      <td>1</td>\n",
       "      <td>0</td>\n",
       "    </tr>\n",
       "    <tr>\n",
       "      <th>3</th>\n",
       "      <td>699</td>\n",
       "      <td>39</td>\n",
       "      <td>1</td>\n",
       "      <td>0.00</td>\n",
       "      <td>2</td>\n",
       "      <td>0</td>\n",
       "      <td>0</td>\n",
       "      <td>93826.63</td>\n",
       "      <td>0</td>\n",
       "      <td>1</td>\n",
       "      <td>0</td>\n",
       "      <td>0</td>\n",
       "      <td>1</td>\n",
       "      <td>0</td>\n",
       "    </tr>\n",
       "    <tr>\n",
       "      <th>4</th>\n",
       "      <td>850</td>\n",
       "      <td>43</td>\n",
       "      <td>2</td>\n",
       "      <td>125510.82</td>\n",
       "      <td>1</td>\n",
       "      <td>1</td>\n",
       "      <td>1</td>\n",
       "      <td>79084.10</td>\n",
       "      <td>0</td>\n",
       "      <td>0</td>\n",
       "      <td>0</td>\n",
       "      <td>1</td>\n",
       "      <td>1</td>\n",
       "      <td>0</td>\n",
       "    </tr>\n",
       "  </tbody>\n",
       "</table>\n",
       "</div>"
      ],
      "text/plain": [
       "   CreditScore  Age  Tenure    Balance  NumOfProducts  HasCrCard  \\\n",
       "0          619   42       2       0.00              1          1   \n",
       "1          608   41       1   83807.86              1          0   \n",
       "2          502   42       8  159660.80              3          1   \n",
       "3          699   39       1       0.00              2          0   \n",
       "4          850   43       2  125510.82              1          1   \n",
       "\n",
       "   IsActiveMember  EstimatedSalary  Exited  Geo_France  Geo_Germany  \\\n",
       "0               1        101348.88       1           1            0   \n",
       "1               1        112542.58       0           0            0   \n",
       "2               0        113931.57       1           1            0   \n",
       "3               0         93826.63       0           1            0   \n",
       "4               1         79084.10       0           0            0   \n",
       "\n",
       "   Geo_Spain  Female  Male  \n",
       "0          0       1     0  \n",
       "1          1       1     0  \n",
       "2          0       1     0  \n",
       "3          0       1     0  \n",
       "4          1       1     0  "
      ]
     },
     "execution_count": 53,
     "metadata": {},
     "output_type": "execute_result"
    }
   ],
   "source": [
    "df.head()"
   ]
  },
  {
   "cell_type": "code",
   "execution_count": 54,
   "id": "475d9ca8",
   "metadata": {},
   "outputs": [],
   "source": [
    "y = df['Exited'].values\n",
    "x = df.loc[:,df.columns != 'Exited'].values"
   ]
  },
  {
   "cell_type": "code",
   "execution_count": 55,
   "id": "47a5cabc",
   "metadata": {},
   "outputs": [],
   "source": [
    "from sklearn.model_selection import train_test_split\n",
    "x_train,x_test,y_train,y_test = train_test_split(x,y,random_state=20,test_size=0.25)"
   ]
  },
  {
   "cell_type": "code",
   "execution_count": 56,
   "id": "0db2636b",
   "metadata": {},
   "outputs": [],
   "source": [
    "from sklearn.preprocessing import StandardScaler\n",
    "std_x = StandardScaler()\n",
    "x_train = std_x.fit_transform(x_train)\n",
    "x_test = std_x.transform(x_test)"
   ]
  },
  {
   "cell_type": "code",
   "execution_count": 57,
   "id": "e1cdddb7",
   "metadata": {},
   "outputs": [
    {
     "data": {
      "text/plain": [
       "(7500, 13)"
      ]
     },
     "execution_count": 57,
     "metadata": {},
     "output_type": "execute_result"
    }
   ],
   "source": [
    "x_train.shape"
   ]
  },
  {
   "cell_type": "code",
   "execution_count": 58,
   "id": "b997ecb3",
   "metadata": {},
   "outputs": [],
   "source": [
    "import tensorflow as tf\n",
    "from tensorflow.keras.layers import Dense,Flatten\n",
    "from tensorflow.keras.models import Sequential, Model"
   ]
  },
  {
   "cell_type": "code",
   "execution_count": 59,
   "id": "b53fbc0d",
   "metadata": {},
   "outputs": [],
   "source": [
    "model=Sequential()\n",
    "model.add(Flatten(input_shape=(13,)))\n",
    "model.add(Dense(100,activation='relu'))\n",
    "model.add(Dense(1,activation='sigmoid'))"
   ]
  },
  {
   "cell_type": "code",
   "execution_count": 60,
   "id": "57a6291b",
   "metadata": {},
   "outputs": [],
   "source": [
    "model.compile(optimizer='adam',metrics=['accuracy'],loss='BinaryCrossentropy')"
   ]
  },
  {
   "cell_type": "code",
   "execution_count": 61,
   "id": "c87e2761",
   "metadata": {},
   "outputs": [
    {
     "name": "stdout",
     "output_type": "stream",
     "text": [
      "Epoch 1/50\n",
      "WARNING:tensorflow:From C:\\Users\\Atharva\\anaconda3\\lib\\site-packages\\keras\\src\\utils\\tf_utils.py:492: The name tf.ragged.RaggedTensorValue is deprecated. Please use tf.compat.v1.ragged.RaggedTensorValue instead.\n",
      "\n",
      "WARNING:tensorflow:From C:\\Users\\Atharva\\anaconda3\\lib\\site-packages\\keras\\src\\engine\\base_layer_utils.py:384: The name tf.executing_eagerly_outside_functions is deprecated. Please use tf.compat.v1.executing_eagerly_outside_functions instead.\n",
      "\n",
      "211/211 [==============================] - 4s 8ms/step - loss: 0.4622 - accuracy: 0.7942 - val_loss: 0.4041 - val_accuracy: 0.8280\n",
      "Epoch 2/50\n",
      "211/211 [==============================] - 1s 5ms/step - loss: 0.4086 - accuracy: 0.8225 - val_loss: 0.3726 - val_accuracy: 0.8467\n",
      "Epoch 3/50\n",
      "211/211 [==============================] - 1s 5ms/step - loss: 0.3845 - accuracy: 0.8345 - val_loss: 0.3520 - val_accuracy: 0.8627\n",
      "Epoch 4/50\n",
      "211/211 [==============================] - 1s 5ms/step - loss: 0.3694 - accuracy: 0.8444 - val_loss: 0.3408 - val_accuracy: 0.8680\n",
      "Epoch 5/50\n",
      "211/211 [==============================] - 1s 5ms/step - loss: 0.3603 - accuracy: 0.8517 - val_loss: 0.3337 - val_accuracy: 0.8640\n",
      "Epoch 6/50\n",
      "211/211 [==============================] - 1s 7ms/step - loss: 0.3561 - accuracy: 0.8538 - val_loss: 0.3281 - val_accuracy: 0.8733\n",
      "Epoch 7/50\n",
      "211/211 [==============================] - 2s 8ms/step - loss: 0.3523 - accuracy: 0.8547 - val_loss: 0.3227 - val_accuracy: 0.8760\n",
      "Epoch 8/50\n",
      "211/211 [==============================] - 1s 5ms/step - loss: 0.3490 - accuracy: 0.8553 - val_loss: 0.3175 - val_accuracy: 0.8733\n",
      "Epoch 9/50\n",
      "211/211 [==============================] - 1s 7ms/step - loss: 0.3472 - accuracy: 0.8544 - val_loss: 0.3150 - val_accuracy: 0.8720\n",
      "Epoch 10/50\n",
      "211/211 [==============================] - 1s 5ms/step - loss: 0.3453 - accuracy: 0.8567 - val_loss: 0.3192 - val_accuracy: 0.8707\n",
      "Epoch 11/50\n",
      "211/211 [==============================] - 1s 5ms/step - loss: 0.3433 - accuracy: 0.8599 - val_loss: 0.3177 - val_accuracy: 0.8760\n",
      "Epoch 12/50\n",
      "211/211 [==============================] - 1s 5ms/step - loss: 0.3412 - accuracy: 0.8579 - val_loss: 0.3199 - val_accuracy: 0.8720\n",
      "Epoch 13/50\n",
      "211/211 [==============================] - 1s 5ms/step - loss: 0.3420 - accuracy: 0.8575 - val_loss: 0.3154 - val_accuracy: 0.8827\n",
      "Epoch 14/50\n",
      "211/211 [==============================] - 1s 5ms/step - loss: 0.3406 - accuracy: 0.8588 - val_loss: 0.3147 - val_accuracy: 0.8773\n",
      "Epoch 15/50\n",
      "211/211 [==============================] - 1s 6ms/step - loss: 0.3404 - accuracy: 0.8599 - val_loss: 0.3250 - val_accuracy: 0.8667\n",
      "Epoch 16/50\n",
      "211/211 [==============================] - 1s 7ms/step - loss: 0.3385 - accuracy: 0.8584 - val_loss: 0.3158 - val_accuracy: 0.8773\n",
      "Epoch 17/50\n",
      "211/211 [==============================] - 1s 7ms/step - loss: 0.3382 - accuracy: 0.8606 - val_loss: 0.3178 - val_accuracy: 0.8747\n",
      "Epoch 18/50\n",
      "211/211 [==============================] - 1s 5ms/step - loss: 0.3369 - accuracy: 0.8613 - val_loss: 0.3153 - val_accuracy: 0.8760\n",
      "Epoch 19/50\n",
      "211/211 [==============================] - 1s 7ms/step - loss: 0.3372 - accuracy: 0.8585 - val_loss: 0.3158 - val_accuracy: 0.8800\n",
      "Epoch 20/50\n",
      "211/211 [==============================] - 1s 5ms/step - loss: 0.3351 - accuracy: 0.8593 - val_loss: 0.3143 - val_accuracy: 0.8800\n",
      "Epoch 21/50\n",
      "211/211 [==============================] - 1s 5ms/step - loss: 0.3341 - accuracy: 0.8630 - val_loss: 0.3170 - val_accuracy: 0.8813\n",
      "Epoch 22/50\n",
      "211/211 [==============================] - 1s 5ms/step - loss: 0.3337 - accuracy: 0.8624 - val_loss: 0.3193 - val_accuracy: 0.8787\n",
      "Epoch 23/50\n",
      "211/211 [==============================] - 1s 5ms/step - loss: 0.3326 - accuracy: 0.8628 - val_loss: 0.3143 - val_accuracy: 0.8800\n",
      "Epoch 24/50\n",
      "211/211 [==============================] - 1s 6ms/step - loss: 0.3319 - accuracy: 0.8615 - val_loss: 0.3160 - val_accuracy: 0.8787\n",
      "Epoch 25/50\n",
      "211/211 [==============================] - 1s 6ms/step - loss: 0.3308 - accuracy: 0.8640 - val_loss: 0.3114 - val_accuracy: 0.8853\n",
      "Epoch 26/50\n",
      "211/211 [==============================] - 2s 7ms/step - loss: 0.3296 - accuracy: 0.8628 - val_loss: 0.3137 - val_accuracy: 0.8733\n",
      "Epoch 27/50\n",
      "211/211 [==============================] - 1s 6ms/step - loss: 0.3292 - accuracy: 0.8621 - val_loss: 0.3197 - val_accuracy: 0.8800\n",
      "Epoch 28/50\n",
      "211/211 [==============================] - 1s 6ms/step - loss: 0.3292 - accuracy: 0.8633 - val_loss: 0.3161 - val_accuracy: 0.8773\n",
      "Epoch 29/50\n",
      "211/211 [==============================] - 1s 7ms/step - loss: 0.3289 - accuracy: 0.8639 - val_loss: 0.3189 - val_accuracy: 0.8840\n",
      "Epoch 30/50\n",
      "211/211 [==============================] - 1s 7ms/step - loss: 0.3272 - accuracy: 0.8639 - val_loss: 0.3185 - val_accuracy: 0.8813\n",
      "Epoch 31/50\n",
      "211/211 [==============================] - 1s 5ms/step - loss: 0.3263 - accuracy: 0.8631 - val_loss: 0.3158 - val_accuracy: 0.8787\n",
      "Epoch 32/50\n",
      "211/211 [==============================] - 1s 5ms/step - loss: 0.3262 - accuracy: 0.8653 - val_loss: 0.3204 - val_accuracy: 0.8747\n",
      "Epoch 33/50\n",
      "211/211 [==============================] - 1s 5ms/step - loss: 0.3257 - accuracy: 0.8639 - val_loss: 0.3120 - val_accuracy: 0.8827\n",
      "Epoch 34/50\n",
      "211/211 [==============================] - 1s 5ms/step - loss: 0.3248 - accuracy: 0.8671 - val_loss: 0.3139 - val_accuracy: 0.8787\n",
      "Epoch 35/50\n",
      "211/211 [==============================] - 1s 5ms/step - loss: 0.3248 - accuracy: 0.8653 - val_loss: 0.3137 - val_accuracy: 0.8800\n",
      "Epoch 36/50\n",
      "211/211 [==============================] - 1s 5ms/step - loss: 0.3236 - accuracy: 0.8656 - val_loss: 0.3181 - val_accuracy: 0.8773\n",
      "Epoch 37/50\n",
      "211/211 [==============================] - 1s 6ms/step - loss: 0.3230 - accuracy: 0.8667 - val_loss: 0.3146 - val_accuracy: 0.8800\n",
      "Epoch 38/50\n",
      "211/211 [==============================] - 1s 7ms/step - loss: 0.3226 - accuracy: 0.8652 - val_loss: 0.3132 - val_accuracy: 0.8720\n",
      "Epoch 39/50\n",
      "211/211 [==============================] - 1s 6ms/step - loss: 0.3226 - accuracy: 0.8653 - val_loss: 0.3131 - val_accuracy: 0.8827\n",
      "Epoch 40/50\n",
      "211/211 [==============================] - 2s 7ms/step - loss: 0.3219 - accuracy: 0.8671 - val_loss: 0.3176 - val_accuracy: 0.8773\n",
      "Epoch 41/50\n",
      "211/211 [==============================] - 1s 7ms/step - loss: 0.3209 - accuracy: 0.8665 - val_loss: 0.3166 - val_accuracy: 0.8787\n",
      "Epoch 42/50\n",
      "211/211 [==============================] - 1s 7ms/step - loss: 0.3205 - accuracy: 0.8644 - val_loss: 0.3148 - val_accuracy: 0.8827\n",
      "Epoch 43/50\n",
      "211/211 [==============================] - 2s 7ms/step - loss: 0.3194 - accuracy: 0.8665 - val_loss: 0.3214 - val_accuracy: 0.8773\n",
      "Epoch 44/50\n",
      "211/211 [==============================] - 1s 5ms/step - loss: 0.3197 - accuracy: 0.8670 - val_loss: 0.3175 - val_accuracy: 0.8840\n",
      "Epoch 45/50\n",
      "211/211 [==============================] - 1s 5ms/step - loss: 0.3191 - accuracy: 0.8655 - val_loss: 0.3173 - val_accuracy: 0.8800\n",
      "Epoch 46/50\n",
      "211/211 [==============================] - 1s 5ms/step - loss: 0.3187 - accuracy: 0.8671 - val_loss: 0.3180 - val_accuracy: 0.8773\n",
      "Epoch 47/50\n",
      "211/211 [==============================] - 1s 5ms/step - loss: 0.3187 - accuracy: 0.8673 - val_loss: 0.3193 - val_accuracy: 0.8773\n",
      "Epoch 48/50\n",
      "211/211 [==============================] - 1s 6ms/step - loss: 0.3185 - accuracy: 0.8676 - val_loss: 0.3156 - val_accuracy: 0.8760\n",
      "Epoch 49/50\n",
      "211/211 [==============================] - 1s 5ms/step - loss: 0.3178 - accuracy: 0.8686 - val_loss: 0.3164 - val_accuracy: 0.8827\n",
      "Epoch 50/50\n",
      "211/211 [==============================] - 1s 5ms/step - loss: 0.3170 - accuracy: 0.8689 - val_loss: 0.3133 - val_accuracy: 0.8827\n"
     ]
    },
    {
     "data": {
      "text/plain": [
       "<keras.src.callbacks.History at 0x2066c8a82b0>"
      ]
     },
     "execution_count": 61,
     "metadata": {},
     "output_type": "execute_result"
    }
   ],
   "source": [
    "model.fit(x_train,y_train,batch_size=32,validation_split=0.1,epochs=50)"
   ]
  },
  {
   "cell_type": "code",
   "execution_count": 63,
   "id": "27abddba",
   "metadata": {},
   "outputs": [
    {
     "name": "stdout",
     "output_type": "stream",
     "text": [
      "79/79 [==============================] - 1s 3ms/step\n"
     ]
    }
   ],
   "source": [
    "pred = model.predict(x_test)"
   ]
  },
  {
   "cell_type": "code",
   "execution_count": 64,
   "id": "4b5ad956",
   "metadata": {},
   "outputs": [],
   "source": [
    "y_pred = []\n",
    "for val in pred:\n",
    "    if val > 0.5:\n",
    "        y_pred.append(1)\n",
    "    else:\n",
    "        y_pred.append(0)"
   ]
  },
  {
   "cell_type": "code",
   "execution_count": 65,
   "id": "38f85ad3",
   "metadata": {},
   "outputs": [
    {
     "name": "stdout",
     "output_type": "stream",
     "text": [
      "[[1943   79]\n",
      " [ 266  212]]\n"
     ]
    }
   ],
   "source": [
    "from sklearn.metrics import accuracy_score,confusion_matrix\n",
    "\n",
    "accuracy_score(y_test,y_pred)\n",
    "cm = confusion_matrix(y_test,y_pred)\n",
    "print(cm)"
   ]
  },
  {
   "cell_type": "code",
   "execution_count": null,
   "id": "2dd63f9c",
   "metadata": {},
   "outputs": [],
   "source": []
  }
 ],
 "metadata": {
  "kernelspec": {
   "display_name": "Python 3 (ipykernel)",
   "language": "python",
   "name": "python3"
  },
  "language_info": {
   "codemirror_mode": {
    "name": "ipython",
    "version": 3
   },
   "file_extension": ".py",
   "mimetype": "text/x-python",
   "name": "python",
   "nbconvert_exporter": "python",
   "pygments_lexer": "ipython3",
   "version": "3.10.9"
  }
 },
 "nbformat": 4,
 "nbformat_minor": 5
}
